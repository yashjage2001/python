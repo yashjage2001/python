{
 "cells": [
  {
   "cell_type": "code",
   "execution_count": 5,
   "id": "535c1080-32bc-4c7c-a9e0-8bae5e8fb3dd",
   "metadata": {},
   "outputs": [
    {
     "name": "stdout",
     "output_type": "stream",
     "text": [
      "1\n",
      "12\n",
      "123\n",
      "1234\n"
     ]
    }
   ],
   "source": [
    "for i in range(1,5):\n",
    "    for j in range(1,i+1):\n",
    "        print(j,end = \"\")\n",
    "    print(\"\\r\")"
   ]
  },
  {
   "cell_type": "code",
   "execution_count": 6,
   "id": "9687a96d-bfcc-4267-93f4-a2b72b340966",
   "metadata": {},
   "outputs": [
    {
     "name": "stdout",
     "output_type": "stream",
     "text": [
      "*\n",
      "**\n",
      "***\n",
      "****\n"
     ]
    }
   ],
   "source": [
    "for i in range(1,5):\n",
    "    for j in range(1,i+1):\n",
    "        print(\"*\",end = \"\")\n",
    "    print(\"\\r\")"
   ]
  },
  {
   "cell_type": "code",
   "execution_count": 16,
   "id": "9aa92eac-ffa0-4838-a762-091555a11ec2",
   "metadata": {},
   "outputs": [
    {
     "name": "stdin",
     "output_type": "stream",
     "text": [
      "enter N 4\n"
     ]
    }
   ],
   "source": [
    "N=int(input(\"enter N\"))\n",
    "for i in range(1, N -i):\n",
    "\n",
    "    for j in range(1, N - i ):\n",
    "        print(\"  \", end=\"\")\n",
    "         \n",
    " \n",
    "    for j in range(1, i ):\n",
    "        print(\"*\", end=\"\")\n",
    "\n",
    "    print()"
   ]
  },
  {
   "cell_type": "code",
   "execution_count": 2,
   "id": "c1330987-4cc0-4301-9897-83c87d8ad381",
   "metadata": {},
   "outputs": [
    {
     "name": "stdout",
     "output_type": "stream",
     "text": [
      "   * \n",
      "  * * \n",
      " * * * \n",
      "* * * * \n"
     ]
    }
   ],
   "source": [
    "for i in range(1,5):\n",
    "    for j in range(1,5-i):\n",
    "        print(\" \",end=\"\")\n",
    "    for j in range(1,i+1):\n",
    "        print(\"* \",end=\"\")\n",
    "    print(\"\")"
   ]
  },
  {
   "cell_type": "code",
   "execution_count": 40,
   "id": "03c6465a-5e32-41a1-afda-9d3622d91ee4",
   "metadata": {},
   "outputs": [
    {
     "name": "stdout",
     "output_type": "stream",
     "text": [
      "*********\n",
      "  *******\n",
      "    *****\n",
      "      ***\n",
      "        *\n"
     ]
    }
   ],
   "source": [
    "\n",
    "N = 5\n",
    "for i in range(1, 6):\n",
    "    for j in range(1, i):\n",
    "        print(\"  \", end=\"\")\n",
    "    for j in range(1, 2 * (N - i) + 2):\n",
    "        print(\"*\", end=\"\")\n",
    "\n",
    "    print()"
   ]
  },
  {
   "cell_type": "code",
   "execution_count": 45,
   "id": "81656e8c-bcd4-4eb1-819e-e012fb34abbb",
   "metadata": {},
   "outputs": [
    {
     "name": "stdout",
     "output_type": "stream",
     "text": [
      "* \n",
      "* * \n",
      "* * * \n",
      "* * * * \n",
      "* * * * * \n"
     ]
    }
   ],
   "source": [
    "n = 5\n",
    "for j in range(1, n+1):\n",
    "    print(\"* \" * j)"
   ]
  },
  {
   "cell_type": "code",
   "execution_count": 9,
   "id": "1dabd39a-1eaa-44b2-ae4e-17219f0dd8d5",
   "metadata": {},
   "outputs": [
    {
     "name": "stdin",
     "output_type": "stream",
     "text": [
      "Enter the number of rows:  5\n"
     ]
    },
    {
     "name": "stdout",
     "output_type": "stream",
     "text": [
      "5 5 5 5 5 \n",
      "4 4 4 4 \n",
      "3 3 3 \n",
      "2 2 \n",
      "1 \n"
     ]
    }
   ],
   "source": [
    " rows = int(input(\"Enter the number of rows: \"))     \n",
    "for i in range(rows, 0, -1):    \n",
    "    n = i      \n",
    "    for j in range(0, i):    \n",
    "         \n",
    "        print(n, end=' ')    \n",
    "    print(\"\\r\")    "
   ]
  },
  {
   "cell_type": "code",
   "execution_count": 27,
   "id": "addcac85-8794-437e-ad63-58e9645ed994",
   "metadata": {},
   "outputs": [
    {
     "name": "stdin",
     "output_type": "stream",
     "text": [
      "Enter the number of rows:  5\n"
     ]
    },
    {
     "name": "stdout",
     "output_type": "stream",
     "text": [
      "        * * * * * * \n",
      "         * * * * * \n",
      "          * * * * \n",
      "           * * * \n",
      "            * * \n",
      "             * \n"
     ]
    }
   ],
   "source": [
    "  \n",
    "rows = int(input(\"Enter the number of rows: \"))    \n",
    "k = 2 * rows - 2    \n",
    "for i in range(rows, -1, -1):\n",
    "    for j in range(k, 0, -1):    \n",
    "        print(end=\" \")    \n",
    "    k= k+ 1\n",
    "    for j in range(0, i + 1):    \n",
    "        print(\"*\", end=\" \")    \n",
    "    print(\"\")    "
   ]
  },
  {
   "cell_type": "code",
   "execution_count": 19,
   "id": "cd30b861-fc6d-47f9-b971-d3633df891a7",
   "metadata": {},
   "outputs": [
    {
     "name": "stdin",
     "output_type": "stream",
     "text": [
      "Enter the number :  5\n"
     ]
    },
    {
     "name": "stdout",
     "output_type": "stream",
     "text": [
      "      A \n",
      "     A B \n",
      "    A B C \n",
      "   A B C D \n",
      "  A B C D E \n"
     ]
    }
   ],
   "source": [
    "n= int(input(\"Enter the number : \"))   \n",
    "alph = 65\n",
    "for i in range(0, n):\n",
    "    print(\" \" * (n-i), end=\" \")\n",
    "    for j in range(0, i+1):\n",
    "        print(chr(alph), end=\" \")\n",
    "        alph += 1\n",
    "    alph = 65\n",
    "    print()"
   ]
  },
  {
   "cell_type": "code",
   "execution_count": 29,
   "id": "0fbdb56a-d9b4-4aad-8fd4-67f2c78c3732",
   "metadata": {},
   "outputs": [
    {
     "name": "stdin",
     "output_type": "stream",
     "text": [
      "Enter the number of rows:  5\n"
     ]
    },
    {
     "name": "stdout",
     "output_type": "stream",
     "text": [
      "5 5 5 5 5 \n",
      "4 4 4 4 \n",
      "3 3 3 \n",
      "2 2 \n",
      "1 \n"
     ]
    }
   ],
   "source": [
    "rows = int(input(\"Enter the number of rows: \"))    \n",
    "   \n",
    "for i in range(rows, 0, -1):\n",
    "    n = i         \n",
    "    for j in range(0, i):    \n",
    "      \n",
    "        print(n, end=' ')    \n",
    "    print(\"\\r\")    "
   ]
  },
  {
   "cell_type": "code",
   "execution_count": 31,
   "id": "e9be626d-b70c-4872-ab8c-226c67392e56",
   "metadata": {},
   "outputs": [
    {
     "name": "stdout",
     "output_type": "stream",
     "text": [
      "*********\n",
      " *******\n",
      "  *****\n",
      "   ***\n",
      "    *\n"
     ]
    }
   ],
   "source": [
    "n=5\n",
    "for i in range(n, 0, -1):\n",
    "        \n",
    "        for j in range(n - i):\n",
    "            print(\" \", end=\"\")\n",
    "      \n",
    "        for k in range(2*i - 1):\n",
    "            print(\"*\", end=\"\")\n",
    "    \n",
    "        print(\"\\r\")"
   ]
  },
  {
   "cell_type": "code",
   "execution_count": 35,
   "id": "02511edb-9cd1-4f32-b6ed-18fcb9635a20",
   "metadata": {},
   "outputs": [
    {
     "name": "stdout",
     "output_type": "stream",
     "text": [
      "********\n",
      "*******\n",
      "******\n",
      "*****\n",
      "****\n",
      "***\n",
      "**\n",
      "*\n"
     ]
    }
   ],
   "source": [
    "\n",
    "    n=8\n",
    "    for i in range(n, 0, -1):\n",
    "        for j in range(1, i + 1):\n",
    "            print(\"*\", end=\"\")\n",
    "        print(\"\\r\")\n",
    " \n",
    "\n"
   ]
  },
  {
   "cell_type": "code",
   "execution_count": null,
   "id": "480ea8ad-ff5b-4de1-bb72-0a7699d2344c",
   "metadata": {},
   "outputs": [],
   "source": []
  }
 ],
 "metadata": {
  "kernelspec": {
   "display_name": "Python 3 (ipykernel)",
   "language": "python",
   "name": "python3"
  },
  "language_info": {
   "codemirror_mode": {
    "name": "ipython",
    "version": 3
   },
   "file_extension": ".py",
   "mimetype": "text/x-python",
   "name": "python",
   "nbconvert_exporter": "python",
   "pygments_lexer": "ipython3",
   "version": "3.11.7"
  }
 },
 "nbformat": 4,
 "nbformat_minor": 5
}
